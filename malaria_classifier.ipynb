{
  "cells": [
    {
      "cell_type": "code",
      "source": [
        "# Mount Google Drive\n",
        "from google.colab import drive\n",
        "drive.mount('/content/drive')\n",
        "\n",
        "# Copy zip file to local Colab storage\n",
        "!cp \"/content/drive/My Drive/cell_images.zip\" \"/content/\"\n",
        "\n",
        "# Extract in local storage (much faster)\n",
        "!unzip -q \"/content/cell_images.zip\" -d \"/content/extracted_data/\"\n",
        "\n"
      ],
      "metadata": {
        "colab": {
          "base_uri": "https://localhost:8080/"
        },
        "id": "NQv-s-DdPSFH",
        "outputId": "f14b527f-a37d-45a2-8ab2-d0de2a4e1487"
      },
      "execution_count": 1,
      "outputs": [
        {
          "output_type": "stream",
          "name": "stdout",
          "text": [
            "Mounted at /content/drive\n"
          ]
        }
      ]
    },
    {
      "cell_type": "code",
      "execution_count": 2,
      "metadata": {
        "id": "hQoku5-tzL7x"
      },
      "outputs": [],
      "source": [
        "import os\n",
        "import numpy as np\n",
        "import matplotlib.pyplot as plt\n",
        "import cv2\n",
        "import random\n",
        ""
      ]
    },
    {
      "cell_type": "code",
      "execution_count": 3,
      "metadata": {
        "colab": {
          "base_uri": "https://localhost:8080/"
        },
        "id": "6dEefUCNzL7z",
        "outputId": "c66e139f-09ec-4e9a-be97-18ca29304544"
      },
      "outputs": [
        {
          "output_type": "stream",
          "name": "stdout",
          "text": [
            "Classes: ['cell_images', 'Parasitized', 'Uninfected']\n",
            "Parasitized samples: 13780\n",
            "Uninfected samples: 13780\n"
          ]
        }
      ],
      "source": [
        "data_path = 'extracted_data/cell_images'  # should contain 'Parasitized/' and 'Uninfected/'\n",
        "\n",
        "print(\"Classes:\", os.listdir(data_path))\n",
        "print(\"Parasitized samples:\", len(os.listdir(os.path.join(data_path, 'Parasitized'))))\n",
        "print(\"Uninfected samples:\", len(os.listdir(os.path.join(data_path, 'Uninfected'))))\n"
      ]
    }
  ],
  "metadata": {
    "kernelspec": {
      "display_name": "malaria-cell-classifier",
      "language": "python",
      "name": "python3"
    },
    "language_info": {
      "codemirror_mode": {
        "name": "ipython",
        "version": 3
      },
      "file_extension": ".py",
      "mimetype": "text/x-python",
      "name": "python",
      "nbconvert_exporter": "python",
      "pygments_lexer": "ipython3",
      "version": "3.10.18"
    },
    "colab": {
      "provenance": []
    }
  },
  "nbformat": 4,
  "nbformat_minor": 0
}